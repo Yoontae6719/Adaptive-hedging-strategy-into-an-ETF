{
 "cells": [
  {
   "cell_type": "code",
   "execution_count": 73,
   "id": "36ce656c",
   "metadata": {},
   "outputs": [],
   "source": [
    "import yfinance as yf\n",
    "import pandas as pd\n",
    "import numpy as np\n",
    "\n",
    "pairs = [\n",
    "    ('UPRO', 'SPXU'),\n",
    "    ('SSO',  'SDS'),\n",
    "    ('SPY',  'SH'),\n",
    "    ('TQQQ', 'SQQQ'),\n",
    "    ('QLD',  'QID'),\n",
    "    ('QQQ',  'PSQ'),\n",
    "    ('UDOW', 'SDOW'),\n",
    "    ('DDM',  'DXD'),\n",
    "    ('DIA',  'DOG'),\n",
    "]\n",
    "\n",
    "start_date = '2023-02-01'\n",
    "end_date   = '2025-01-15'\n",
    "interval   = '1h'\n",
    "\n",
    "\n",
    "def get_dataset(start_date, end_date, interval):\n",
    "    data_dict = {}\n",
    "\n",
    "    for (ticker1, ticker2) in pairs:\n",
    "        df1 = yf.download(\n",
    "            ticker1,\n",
    "            start=start_date,\n",
    "            end=end_date,\n",
    "            interval=interval\n",
    "        )\n",
    "        df2 = yf.download(\n",
    "            ticker2,\n",
    "            start=start_date,\n",
    "            end=end_date,\n",
    "            interval=interval\n",
    "        )\n",
    "\n",
    "        df1 = df1[['Close', 'Volume']].rename(columns={\n",
    "            'Close': 'Close1',\n",
    "            'Volume': 'Volume1'\n",
    "        })\n",
    "        df2 = df2[['Close', 'Volume']].rename(columns={\n",
    "            'Close': 'Close2',\n",
    "            'Volume': 'Volume2'\n",
    "        })\n",
    "\n",
    "        df_merged = df1.join(df2, how='outer')    \n",
    "        df_merged = df_merged[['Close1', 'Close2', 'Volume1', 'Volume2']]\n",
    "\n",
    "        df_merged['Volume1'] = df_merged['Volume1'].replace(0, np.nan).ffill()\n",
    "        df_merged['Volume2'] = df_merged['Volume2'].replace(0, np.nan).ffill()\n",
    "\n",
    "        data_dict[(ticker1, ticker2)] = df_merged\n",
    "\n",
    "    return data_dict"
   ]
  },
  {
   "cell_type": "code",
   "execution_count": 74,
   "id": "edffd068",
   "metadata": {},
   "outputs": [
    {
     "name": "stderr",
     "output_type": "stream",
     "text": [
      "[*********************100%***********************]  1 of 1 completed\n",
      "[*********************100%***********************]  1 of 1 completed\n",
      "[*********************100%***********************]  1 of 1 completed\n",
      "[*********************100%***********************]  1 of 1 completed\n",
      "[*********************100%***********************]  1 of 1 completed\n",
      "[*********************100%***********************]  1 of 1 completed\n",
      "[*********************100%***********************]  1 of 1 completed\n",
      "[*********************100%***********************]  1 of 1 completed\n",
      "[*********************100%***********************]  1 of 1 completed\n",
      "[*********************100%***********************]  1 of 1 completed\n",
      "[*********************100%***********************]  1 of 1 completed\n",
      "[*********************100%***********************]  1 of 1 completed\n",
      "[*********************100%***********************]  1 of 1 completed\n",
      "[*********************100%***********************]  1 of 1 completed\n",
      "[*********************100%***********************]  1 of 1 completed\n",
      "[*********************100%***********************]  1 of 1 completed\n",
      "[*********************100%***********************]  1 of 1 completed\n",
      "[*********************100%***********************]  1 of 1 completed\n"
     ]
    }
   ],
   "source": [
    "start_date = '2023-02-01'\n",
    "end_date   = '2025-01-15'\n",
    "interval   = '1h'\n",
    "data_hour = get_dataset(start_date, end_date, interval)"
   ]
  },
  {
   "cell_type": "code",
   "execution_count": 75,
   "id": "0f1466e3",
   "metadata": {},
   "outputs": [
    {
     "name": "stderr",
     "output_type": "stream",
     "text": [
      "/home/work/.local/lib/python3.10/site-packages/pandas/core/indexes/base.py:7834: RuntimeWarning: invalid value encountered in cast\n",
      "  values = values.astype(str)\n"
     ]
    }
   ],
   "source": [
    "pairs = [\n",
    "    ('UPRO', 'SPXU'),\n",
    "    ('SSO',  'SDS'),\n",
    "    ('SPY',  'SH'),\n",
    "    ('TQQQ', 'SQQQ'),\n",
    "    ('QLD',  'QID'),\n",
    "    ('QQQ',  'PSQ'),\n",
    "    ('UDOW', 'SDOW'),\n",
    "    ('DDM',  'DXD'),\n",
    "    ('DIA',  'DOG'),\n",
    "]\n",
    "\n",
    "for p in pairs:\n",
    "    df = data_hour[p]      \n",
    "    df.columns = df.columns.droplevel(level=[\"Ticker\"])\n",
    "    filename = f\"./dataset/{p[0]}_{p[1]}_hour.csv\"    \n",
    "    df.reset_index().to_csv(filename, index=False)"
   ]
  },
  {
   "cell_type": "code",
   "execution_count": 78,
   "id": "0609af12",
   "metadata": {},
   "outputs": [
    {
     "name": "stderr",
     "output_type": "stream",
     "text": [
      "[*********************100%***********************]  1 of 1 completed\n",
      "[*********************100%***********************]  1 of 1 completed\n",
      "[*********************100%***********************]  1 of 1 completed\n",
      "[*********************100%***********************]  1 of 1 completed\n",
      "[*********************100%***********************]  1 of 1 completed\n",
      "[*********************100%***********************]  1 of 1 completed\n",
      "[*********************100%***********************]  1 of 1 completed\n",
      "[*********************100%***********************]  1 of 1 completed\n",
      "[*********************100%***********************]  1 of 1 completed\n",
      "[*********************100%***********************]  1 of 1 completed\n",
      "[*********************100%***********************]  1 of 1 completed\n",
      "[*********************100%***********************]  1 of 1 completed\n",
      "[*********************100%***********************]  1 of 1 completed\n",
      "[*********************100%***********************]  1 of 1 completed\n",
      "[*********************100%***********************]  1 of 1 completed\n",
      "[*********************100%***********************]  1 of 1 completed\n",
      "[*********************100%***********************]  1 of 1 completed\n",
      "[*********************100%***********************]  1 of 1 completed\n"
     ]
    }
   ],
   "source": [
    "start_date = '2024-11-20'\n",
    "end_date   = '2025-01-15'\n",
    "interval   = '5m'\n",
    "\n",
    "data_hour = get_dataset(start_date, end_date, interval)"
   ]
  },
  {
   "cell_type": "code",
   "execution_count": 79,
   "id": "8938b473",
   "metadata": {},
   "outputs": [
    {
     "name": "stderr",
     "output_type": "stream",
     "text": [
      "/home/work/.local/lib/python3.10/site-packages/pandas/core/indexes/base.py:7834: RuntimeWarning: invalid value encountered in cast\n",
      "  values = values.astype(str)\n",
      "/home/work/.local/lib/python3.10/site-packages/pandas/core/indexes/base.py:7834: RuntimeWarning: invalid value encountered in cast\n",
      "  values = values.astype(str)\n",
      "/home/work/.local/lib/python3.10/site-packages/pandas/core/indexes/base.py:7834: RuntimeWarning: invalid value encountered in cast\n",
      "  values = values.astype(str)\n",
      "/home/work/.local/lib/python3.10/site-packages/pandas/core/indexes/base.py:7834: RuntimeWarning: invalid value encountered in cast\n",
      "  values = values.astype(str)\n"
     ]
    }
   ],
   "source": [
    "pairs = [\n",
    "    ('UPRO', 'SPXU'),\n",
    "    ('SSO',  'SDS'),\n",
    "    ('SPY',  'SH'),\n",
    "    ('TQQQ', 'SQQQ'),\n",
    "    ('QLD',  'QID'),\n",
    "    ('QQQ',  'PSQ'),\n",
    "    ('UDOW', 'SDOW'),\n",
    "    ('DDM',  'DXD'),\n",
    "    ('DIA',  'DOG'),\n",
    "]\n",
    "\n",
    "for p in pairs:\n",
    "    df = data_hour[p]      \n",
    "    df.columns = df.columns.droplevel(level=[\"Ticker\"])\n",
    "    filename = f\"./dataset/{p[0]}_{p[1]}_5min.csv\"    \n",
    "    df.reset_index().to_csv(filename, index=False)"
   ]
  },
  {
   "cell_type": "code",
   "execution_count": null,
   "id": "0eff388b",
   "metadata": {},
   "outputs": [],
   "source": []
  },
  {
   "cell_type": "code",
   "execution_count": null,
   "id": "14f9e856",
   "metadata": {},
   "outputs": [],
   "source": []
  }
 ],
 "metadata": {
  "kernelspec": {
   "display_name": "PyTorch 2.1 (NGC 23.09/Python 3.10) on Backend.AI",
   "language": "python",
   "name": "python3"
  },
  "language_info": {
   "codemirror_mode": {
    "name": "ipython",
    "version": 3
   },
   "file_extension": ".py",
   "mimetype": "text/x-python",
   "name": "python",
   "nbconvert_exporter": "python",
   "pygments_lexer": "ipython3",
   "version": "3.10.12"
  }
 },
 "nbformat": 4,
 "nbformat_minor": 5
}
